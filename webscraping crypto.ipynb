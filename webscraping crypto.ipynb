{
 "cells": [
  {
   "cell_type": "code",
   "execution_count": null,
   "id": "2b614787-8027-4974-bb52-2579fa99d2a7",
   "metadata": {},
   "outputs": [],
   "source": [
    "#importing libraries\n",
    "from bs4 import BeautifulSoup\n",
    "import requests\n",
    "import time\n",
    "import csv\n",
    "import pandas as pd\n",
    "import datetime\n",
    "import smtplib"
   ]
  },
  {
   "cell_type": "code",
   "execution_count": null,
   "id": "7a446584-6b0d-41a2-9791-d1b869e38fbb",
   "metadata": {},
   "outputs": [],
   "source": [
    "#connecting to url\n",
    "\n",
    "url = 'https://www.geckoterminal.com/avax/pools/0xd9fa522f5bc6cfa40211944f2c8da785773ad99d'\n",
    "headers = {'User-Agent': 'Mozilla/5.0 (Windows NT 10.0; Win64; x64) AppleWebKit/537.36 (KHTML, like Gecko) Chrome/129.0.0.0 Safari/537.36'}\n",
    "page = requests.get(url, headers=headers)\n",
    "soup1 = BeautifulSoup(page.content, \"html.parser\")\n",
    "soup2 = BeautifulSoup(soup1.prettify(), 'html.parser')\n",
    "price = soup2.find(id =\"pool-price-display\").get_text()\n",
    "title = soup2.find(\"span\", {\"title\" : \"Bitcoin Price (BTC.b)\"}).get_text()\n",
    "print(title)\n",
    "print(price)"
   ]
  },
  {
   "cell_type": "code",
   "execution_count": 3,
   "id": "8aaa5a1b-08ea-4199-a0f0-1d97367368c9",
   "metadata": {},
   "outputs": [
    {
     "name": "stdout",
     "output_type": "stream",
     "text": [
      "$66,039.79\n",
      "Bitcoin Price (BTC.b)\n"
     ]
    }
   ],
   "source": [
    "#striping the response\n",
    "\n",
    "price =price.strip()\n",
    "title =title.strip()\n",
    "\n",
    "print(price)\n",
    "print(title)"
   ]
  },
  {
   "cell_type": "code",
   "execution_count": 4,
   "id": "9ede420c-16ea-4ffa-a23e-9860e635e545",
   "metadata": {},
   "outputs": [],
   "source": [
    "#creating csv file\n",
    "\n",
    "today= datetime.date.today()\n",
    "\n",
    "header = [ \"TITLE\",\"PRICE\",\"DATE\"]\n",
    "data = [title,price,today]\n",
    "\n",
    "with open(\"btcprice.csv\",\"w\",newline=\"\",encoding = \"UTF8\") as f :\n",
    "    writer = csv.writer(f)\n",
    "    writer.writerow(header)\n",
    "    writer.writerow(data)"
   ]
  },
  {
   "cell_type": "code",
   "execution_count": 5,
   "id": "693c15de-aec2-484e-abd7-612655e7b696",
   "metadata": {},
   "outputs": [
    {
     "name": "stdout",
     "output_type": "stream",
     "text": [
      "                   TITLE       PRICE        DATE\n",
      "0  Bitcoin Price (BTC.b)  $66,039.79  2024-10-15\n"
     ]
    }
   ],
   "source": [
    "#creating csv as a dataframe\n",
    "\n",
    "df =pd.read_csv(r\"C:\\Users\\michael bamfo\\btcprice.csv\")\n",
    "print(df)"
   ]
  },
  {
   "cell_type": "code",
   "execution_count": 6,
   "id": "84928a24-51ef-438f-8ea6-b29173710e34",
   "metadata": {},
   "outputs": [],
   "source": [
    "#appending data to csv\n",
    "\n",
    "with open(\"btcprice.csv\",\"a+\",newline=\"\",encoding = \"UTF8\") as f :\n",
    "    writer = csv.writer(f)\n",
    "    writer.writerow(data)"
   ]
  },
  {
   "cell_type": "code",
   "execution_count": 7,
   "id": "14285d5f-fb00-4fa5-a5b3-6f78f2230623",
   "metadata": {},
   "outputs": [],
   "source": [
    "#sending notification to mail when price rises to a specific price\n",
    "\n",
    "def send_mail():\n",
    "    server = smtplib.SMTP_SSL(\"smtp.gmail.com\",465)\n",
    "    server.ehlo()\n",
    "    #server.starttls\n",
    "    server.ehlo()\n",
    "    server.login(\"mbamfo001@st.ug.edu.gh\", \"xxxxxxxxxxx\")\n",
    "    subject=\"bitcoin price is now 100,000\"\n",
    "    body = \"mike the long awaited bull market has begun\"\n",
    "    msg= f'subject : {subject}\\n\\n{body}'\n",
    "    server.sendmail('mbamfo001@st.ug.edu.gh',msg)\n",
    "    "
   ]
  },
  {
   "cell_type": "code",
   "execution_count": 8,
   "id": "19a72193-5eeb-4918-a0e6-6b66780f8759",
   "metadata": {},
   "outputs": [],
   "source": [
    "#merging everithing into one function\n",
    "\n",
    "def price_check():\n",
    "    url = 'https://www.geckoterminal.com/avax/pools/0xd9fa522f5bc6cfa40211944f2c8da785773ad99d'\n",
    "    headers = {'User-Agent': 'Mozilla/5.0 (Windows NT 10.0; Win64; x64) AppleWebKit/537.36 (KHTML, like Gecko) Chrome/129.0.0.0 Safari/537.36'}\n",
    "    page = requests.get(url, headers=headers)\n",
    "    soup1 = BeautifulSoup(page.content, \"html.parser\")\n",
    "    soup2 = BeautifulSoup(soup1.prettify(), 'html.parser')\n",
    "    price = soup2.find(id =\"pool-price-display\").get_text()\n",
    "    title = soup2.find(\"span\", {\"title\" : \"Bitcoin Price (BTC.b)\"}).get_text()\n",
    "    price =price.strip()\n",
    "    title =title.strip()\n",
    "    today= datetime.date.today()\n",
    "    header = [ \"TITLE\",\"PRICE\",\"DATE\"]\n",
    "    data = [title,price,today]\n",
    "    with open(\"btcprice.csv\",\"a+\",newline=\"\",encoding = \"UTF8\") as f :\n",
    "        writer = csv.writer(f)\n",
    "        writer.writerow(data)\n",
    "    if price == 100000 :\n",
    "        send_mail()\n",
    "\n",
    "\n",
    "    "
   ]
  },
  {
   "cell_type": "code",
   "execution_count": null,
   "id": "358d711d-ea06-4ccd-8268-b29d0974e0dd",
   "metadata": {},
   "outputs": [],
   "source": [
    "# looping for daily price\n",
    "while(True) :\n",
    "    price_check()\n",
    "    time.sleep(86400)\n",
    "    "
   ]
  },
  {
   "cell_type": "code",
   "execution_count": null,
   "id": "73c77d48-9abd-4f3f-a125-c44eee00261f",
   "metadata": {},
   "outputs": [],
   "source": [
    "df =pd.read_csv(r\"C:\\Users\\michael bamfo\\btcprice.csv\")\n",
    "print(df)"
   ]
  },
  {
   "cell_type": "code",
   "execution_count": null,
   "id": "1d356f0a-4e0d-47b1-8ef5-10c15d8ad019",
   "metadata": {},
   "outputs": [],
   "source": []
  }
 ],
 "metadata": {
  "kernelspec": {
   "display_name": "Python 3 (ipykernel)",
   "language": "python",
   "name": "python3"
  },
  "language_info": {
   "codemirror_mode": {
    "name": "ipython",
    "version": 3
   },
   "file_extension": ".py",
   "mimetype": "text/x-python",
   "name": "python",
   "nbconvert_exporter": "python",
   "pygments_lexer": "ipython3",
   "version": "3.12.5"
  }
 },
 "nbformat": 4,
 "nbformat_minor": 5
}
